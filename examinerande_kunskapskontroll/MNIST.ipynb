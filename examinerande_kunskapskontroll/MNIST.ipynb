{
 "cells": [
  {
   "cell_type": "markdown",
   "id": "d6526776",
   "metadata": {},
   "source": [
    "# Examination - MNIST\n",
    "The code you hand in should be clear and concise with adequate comments. Use approproate headers in your code.\n",
    "\n",
    "I (Antonio) should be able to see your results without running the code, so run the whole script when you are done and then save so the results are visible. \n",
    "**Kernel > \"Restart & Run All\" > Save.**"
   ]
  },
  {
   "cell_type": "code",
   "execution_count": null,
   "id": "864ca8e6",
   "metadata": {},
   "outputs": [],
   "source": [
    "import numpy as np\n",
    "import pandas as pd\n",
    "import matplotlib.pyplot as plt\n",
    "\n",
    "from sklearn.datasets import fetch_openml"
   ]
  },
  {
   "cell_type": "markdown",
   "id": "90510b95",
   "metadata": {},
   "source": [
    "# Data"
   ]
  },
  {
   "cell_type": "code",
   "execution_count": null,
   "id": "a18185be",
   "metadata": {},
   "outputs": [],
   "source": [
    "mnist = fetch_openml('mnist_784', version=1, cache=True, as_frame=False)\n",
    "\n",
    "X = mnist[\"data\"]\n",
    "y = mnist[\"target\"].astype(np.uint8)"
   ]
  },
  {
   "cell_type": "code",
   "execution_count": null,
   "id": "2624557c",
   "metadata": {},
   "outputs": [],
   "source": [
    "# print(mnist.DESCR)"
   ]
  },
  {
   "cell_type": "code",
   "execution_count": null,
   "id": "7b0dfd0c",
   "metadata": {},
   "outputs": [],
   "source": []
  }
 ],
 "metadata": {
  "kernelspec": {
   "display_name": "Python 3 (ipykernel)",
   "language": "python",
   "name": "python3"
  },
  "language_info": {
   "codemirror_mode": {
    "name": "ipython",
    "version": 3
   },
   "file_extension": ".py",
   "mimetype": "text/x-python",
   "name": "python",
   "nbconvert_exporter": "python",
   "pygments_lexer": "ipython3",
   "version": "3.8.0"
  }
 },
 "nbformat": 4,
 "nbformat_minor": 5
}
