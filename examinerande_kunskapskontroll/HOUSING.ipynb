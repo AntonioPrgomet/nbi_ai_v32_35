{
 "cells": [
  {
   "cell_type": "markdown",
   "id": "167d4fa1",
   "metadata": {},
   "source": [
    "# Examination - HOUSING\n",
    "The code you hand in should be clear and concise with adequate comments. Use approproate headers in your code. \n",
    "\n",
    "I (Antonio) should be able to see your results without running the code, so run the whole script when you are done and then save so the results are visible. \n",
    "**Kernel > \"Restart & Run All\" > Save.**"
   ]
  },
  {
   "cell_type": "code",
   "execution_count": null,
   "id": "8bafb8dd",
   "metadata": {},
   "outputs": [],
   "source": [
    "import numpy as np\n",
    "import pandas as pd\n",
    "import matplotlib.pyplot as plt\n",
    "\n",
    "from sklearn.datasets import fetch_california_housing"
   ]
  },
  {
   "cell_type": "markdown",
   "id": "f9b9c0c4",
   "metadata": {},
   "source": [
    "# Data"
   ]
  },
  {
   "cell_type": "code",
   "execution_count": null,
   "id": "1c43fd6e",
   "metadata": {},
   "outputs": [],
   "source": [
    "# OBS: Specify your own path for the file.  \n",
    "housing = pd.read_csv(r'C:\\Users\\Antonio Prgomet\\Downloads\\housing.csv')"
   ]
  },
  {
   "cell_type": "code",
   "execution_count": null,
   "id": "52ac34e7",
   "metadata": {},
   "outputs": [],
   "source": [
    "# housing.info()"
   ]
  },
  {
   "cell_type": "code",
   "execution_count": null,
   "id": "ba81e87e",
   "metadata": {},
   "outputs": [],
   "source": []
  }
 ],
 "metadata": {
  "kernelspec": {
   "display_name": "Python 3 (ipykernel)",
   "language": "python",
   "name": "python3"
  },
  "language_info": {
   "codemirror_mode": {
    "name": "ipython",
    "version": 3
   },
   "file_extension": ".py",
   "mimetype": "text/x-python",
   "name": "python",
   "nbconvert_exporter": "python",
   "pygments_lexer": "ipython3",
   "version": "3.8.0"
  }
 },
 "nbformat": 4,
 "nbformat_minor": 5
}
